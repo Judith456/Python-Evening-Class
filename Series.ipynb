{
 "cells": [
  {
   "cell_type": "code",
   "execution_count": 6,
   "id": "f60170bf",
   "metadata": {},
   "outputs": [
    {
     "name": "stdout",
     "output_type": "stream",
     "text": [
      "Series([], dtype: object)\n"
     ]
    },
    {
     "data": {
      "text/plain": [
       "<bound method NDFrame.astype of Series([], dtype: object)>"
      ]
     },
     "execution_count": 6,
     "metadata": {},
     "output_type": "execute_result"
    }
   ],
   "source": [
    "import pandas as pd\n",
    "\n",
    "ser = pd.Series([])\n",
    "print(ser)\n",
    "ser.astype"
   ]
  },
  {
   "cell_type": "code",
   "execution_count": 11,
   "id": "5b4c0e46",
   "metadata": {},
   "outputs": [
    {
     "name": "stdout",
     "output_type": "stream",
     "text": [
      "['a' 'b' 'c' 'd' 'e' 'f']\n",
      "\n",
      "\n",
      "0    a\n",
      "1    b\n",
      "2    c\n",
      "3    d\n",
      "4    e\n",
      "5    f\n",
      "dtype: object\n"
     ]
    }
   ],
   "source": [
    "import pandas as pd\n",
    "import numpy as np\n",
    "\n",
    "data = np.array(['a', 'b', 'c', 'd', 'e', 'f'])\n",
    "print(data)\n",
    "print(\"\\n\")\n",
    "series1 = pd.Series(data)\n",
    "print(series1)"
   ]
  },
  {
   "cell_type": "code",
   "execution_count": 14,
   "id": "a7530895",
   "metadata": {},
   "outputs": [],
   "source": [
    "import pandas as pd"
   ]
  },
  {
   "cell_type": "code",
   "execution_count": null,
   "id": "5a14659d",
   "metadata": {},
   "outputs": [
    {
     "name": "stdout",
     "output_type": "stream",
     "text": [
      "0     Agnes\n",
      "1    Judith\n",
      "2     Joyce\n",
      "dtype: object\n"
     ]
    }
   ],
   "source": [
    "data1 = pd.Series(['Agnes', 'Judith', 'Joyce'])\n",
    "print(data1)"
   ]
  },
  {
   "cell_type": "code",
   "execution_count": 16,
   "id": "819f685e",
   "metadata": {},
   "outputs": [
    {
     "name": "stdout",
     "output_type": "stream",
     "text": [
      "Name    Judith\n",
      "Age         22\n",
      "dtype: object\n"
     ]
    }
   ],
   "source": [
    "data2 = pd.Series({'Name' : 'Judith', 'Age' : 22})\n",
    "print(data2)"
   ]
  },
  {
   "cell_type": "code",
   "execution_count": 17,
   "id": "0a8725ba",
   "metadata": {},
   "outputs": [
    {
     "data": {
      "text/plain": [
       "0      5\n",
       "1      6\n",
       "2      7\n",
       "3      8\n",
       "4      9\n",
       "5     10\n",
       "6     11\n",
       "7     12\n",
       "8     13\n",
       "9     14\n",
       "10    15\n",
       "dtype: int64"
      ]
     },
     "execution_count": 17,
     "metadata": {},
     "output_type": "execute_result"
    }
   ],
   "source": [
    "#functions in Series\n",
    "\n",
    "pd.Series(range(5, 16))"
   ]
  },
  {
   "cell_type": "code",
   "execution_count": null,
   "id": "c07a5a41",
   "metadata": {},
   "outputs": [
    {
     "name": "stdout",
     "output_type": "stream",
     "text": [
      "0     1.00\n",
      "1     3.25\n",
      "2     5.50\n",
      "3     7.75\n",
      "4    10.00\n",
      "dtype: float64\n"
     ]
    }
   ],
   "source": [
    "#numpy.linspace()\n",
    "#np.linspace(1, 10, 5) generates 5 evenly spaced numbers between 1 and 10,\n",
    "#You are asking NumPy to create 5 evenly spaced values from 1 to 10, inclusive.\n",
    "#(10-1)/(5-1)\n",
    "ser1 = pd.Series(np.linspace(1, 10, 5))\n",
    "print(ser1)"
   ]
  },
  {
   "cell_type": "code",
   "execution_count": 21,
   "id": "efd11e96",
   "metadata": {},
   "outputs": [
    {
     "name": "stdout",
     "output_type": "stream",
     "text": [
      "0    1.0\n",
      "1    2.8\n",
      "2    4.6\n",
      "3    6.4\n",
      "4    8.2\n",
      "dtype: float64\n"
     ]
    }
   ],
   "source": [
    "ser1 = pd.Series(np.linspace(1, 10, 5, endpoint = False))\n",
    "print(ser1)"
   ]
  }
 ],
 "metadata": {
  "kernelspec": {
   "display_name": "base",
   "language": "python",
   "name": "python3"
  },
  "language_info": {
   "codemirror_mode": {
    "name": "ipython",
    "version": 3
   },
   "file_extension": ".py",
   "mimetype": "text/x-python",
   "name": "python",
   "nbconvert_exporter": "python",
   "pygments_lexer": "ipython3",
   "version": "3.12.7"
  }
 },
 "nbformat": 4,
 "nbformat_minor": 5
}
