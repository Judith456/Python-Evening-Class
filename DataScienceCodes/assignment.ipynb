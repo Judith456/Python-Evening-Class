{
 "cells": [
  {
   "cell_type": "code",
   "execution_count": null,
   "id": "6e31c7e4",
   "metadata": {},
   "outputs": [],
   "source": [
    "\"\"\"\n",
    "1) Missing values / Empty cells \n",
    "2) Inconsistent date formats \n",
    "3) Duplicate rows. \n",
    "4) Wrong data \n",
    "5) Unnecessary columns that are not relevant to the analysis.\n",
    "\"\"\""
   ]
  },
  {
   "cell_type": "code",
   "execution_count": null,
   "id": "e79bde64",
   "metadata": {},
   "outputs": [],
   "source": [
    "#MINE DATASET\n",
    "\n",
    "import pandas as pd\n",
    "\n",
    "df = pd.read_csv('mine.csv')\n",
    "print(df)\n",
    "\n",
    "print(\"\\n DataFrame without rows with null/empty values\")\n",
    "df.dropna(inplace = True)\n",
    "print(df)\n",
    "\n",
    "print(\"\\n DataFrame with correct date format\")\n",
    "df['Date'] = pd.to_datetime(df['Date'], format = 'mixed')\n",
    "print(df)\n",
    "\n",
    "print(\"\\n Duplicates if exit in the dataframe\")\n",
    "print(df.duplicated())\n",
    "\n",
    "print(\"\\n DataFrame without wrong  data\")\n",
    "for y in df.index:\n",
    "    if df.loc[y, \"Pulse\"] > df.loc[y, \"Maxpulse\"]:\n",
    "        df.drop(y, inplace = True)\n",
    "print(df)"
   ]
  },
  {
   "cell_type": "code",
   "execution_count": null,
   "id": "066be03c",
   "metadata": {},
   "outputs": [],
   "source": [
    "#SALES DATA SET\n",
    "\n",
    "import pandas as pd\n",
    "\n",
    "df = pd.read_csv('Sales.csv')\n",
    "print(df)\n",
    "\n",
    "print(\"\\n DataFrame without null values\")\n",
    "df.dropna(inplace = True)\n",
    "print(df)\n",
    "\n",
    "print(\"\\n Correct Date format\")\n",
    "df['Order Date'] = pd.to_datetime(df['Order Date'], format = 'mixed')\n",
    "print(df)\n",
    "\n",
    "print(\"\\n Duplicated rows shown\")\n",
    "print(df.duplicated())\n",
    "\n",
    "print(\"\\n DataFrame without duplicates\")\n",
    "df.drop_duplicates(inplace = True)\n",
    "print(df)\n",
    "\n",
    "print(\"\\n Data Frame without wrong data\") \n",
    "for x in df.index:\n",
    "    #if df.loc[x, 'Unit Price'] < 0:\n",
    "        #df.drop(x, inplace = True)\n",
    "    if df.loc[x, 'Total Revenue'] < 0:\n",
    "        df.drop(x, inplace = True)\n",
    "print(df)\n",
    "        "
   ]
  }
 ],
 "metadata": {
  "kernelspec": {
   "display_name": "Python 3",
   "language": "python",
   "name": "python3"
  },
  "language_info": {
   "codemirror_mode": {
    "name": "ipython",
    "version": 3
   },
   "file_extension": ".py",
   "mimetype": "text/x-python",
   "name": "python",
   "nbconvert_exporter": "python",
   "pygments_lexer": "ipython3",
   "version": "3.13.3"
  }
 },
 "nbformat": 4,
 "nbformat_minor": 5
}
