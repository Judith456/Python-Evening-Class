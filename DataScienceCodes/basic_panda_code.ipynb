{
 "cells": [
  {
   "cell_type": "code",
   "execution_count": null,
   "id": "7f5242ce",
   "metadata": {},
   "outputs": [],
   "source": [
    "import pandas as pd\n",
    "\n",
    "mydataset = {\n",
    "  'cars': [\"BMW\", \"Volvo\", \"Ford\"],\n",
    "  'passings': [3, 7, 2]\n",
    "}\n",
    "\n",
    "#myvar = pandas.DataFrame(mydataset)\n",
    "\n",
    "#print(myvar)\n",
    "print(pd.DataFrame(mydataset))"
   ]
  },
  {
   "cell_type": "code",
   "execution_count": null,
   "id": "2db002df",
   "metadata": {},
   "outputs": [],
   "source": [
    "import pandas as pd\n",
    "a = [1, 7, 1]\n",
    "myvar = pd.Series(a)\n",
    "print(myvar)\n",
    "print(\"\\n\")\n",
    "\n",
    "print(myvar[0])"
   ]
  },
  {
   "cell_type": "code",
   "execution_count": null,
   "id": "91812ddb",
   "metadata": {},
   "outputs": [],
   "source": [
    "import pandas as pd\n",
    "a = [1, 7, 1]\n",
    "myvar = pd.Series(a, index = ['x', 'y', 'z'])\n",
    "print(myvar)\n",
    "print('\\n')\n",
    "print(myvar[\"x\"])"
   ]
  },
  {
   "cell_type": "code",
   "execution_count": null,
   "id": "366c46d1",
   "metadata": {},
   "outputs": [],
   "source": [
    "import pandas as pd\n",
    "mydict = {\"name\" : \"Judith\",\n",
    "          \"age\" : 22}\n",
    "myvar = pd.Series(mydict)\n",
    "print(myvar)\n",
    "\n",
    "print(myvar[\"name\"])"
   ]
  },
  {
   "cell_type": "code",
   "execution_count": null,
   "id": "6f9a3936",
   "metadata": {},
   "outputs": [],
   "source": [
    "#Create a DataFrame from two Series:\n",
    "\n",
    "import pandas as pd\n",
    "\n",
    "data = {\n",
    "  \"calories\": [420, 380, 390],\n",
    "  \"duration\": [50, 40, 45],\n",
    "  \"percentage\": [45, 56, 67]\n",
    "}\n",
    "\n",
    "myvar = pd.DataFrame(data)\n",
    "\n",
    "print(myvar)\n",
    "\n",
    "print(myvar.loc[1])\n",
    "print(myvar.loc[[0, 1]])  #list"
   ]
  },
  {
   "cell_type": "code",
   "execution_count": null,
   "id": "aac8defc",
   "metadata": {},
   "outputs": [],
   "source": [
    "import pandas as pd\n",
    "\n",
    "data = {\n",
    "  \"calories\": [420, 380, 390],\n",
    "  \"duration\": [50, 40, 45]\n",
    "}\n",
    "\n",
    "df = pd.DataFrame(data, index = [\"day1\", \"day2\", \"day3\"])\n",
    "\n",
    "print(df) \n",
    "\n",
    "#refer to the named index:\n",
    "print(df.loc[\"day2\"])"
   ]
  },
  {
   "cell_type": "code",
   "execution_count": 46,
   "id": "a1b39588",
   "metadata": {},
   "outputs": [
    {
     "name": "stdout",
     "output_type": "stream",
     "text": [
      "   Order ID  Customer Name   Order Date   Product  Quantity  Unit Price  \\\n",
      "0      1001       John Doe   01/01/2024  Widget A      10.0        25.0   \n",
      "1      1002     Jane Smith   01/02/2024  Widget B       5.0        40.0   \n",
      "2      1003            NaN  2024/01/03'  Widget A       NaN        25.0   \n",
      "3      1004  Alice Johnson   04/01/2024  Widget C       3.0         NaN   \n",
      "4      1005      Bob Brown  2024/01/05'  Widget B      10.0        40.0   \n",
      "5      1006       John Doe   06/01/2024  Widget A       4.0        25.0   \n",
      "6      1001       John Doe   01/01/2024  Widget A      10.0        25.0   \n",
      "7      1007     Jane Smith   07/01/2024  Widget C      -6.0        70.0   \n",
      "\n",
      "   Total Revenue  \n",
      "0          250.0  \n",
      "1          200.0  \n",
      "2            NaN  \n",
      "3          210.0  \n",
      "4          400.0  \n",
      "5          100.0  \n",
      "6          250.0  \n",
      "7         -420.0  \n"
     ]
    }
   ],
   "source": [
    "#LOAD FILES\n",
    "import pandas as pd\n",
    "df = pd.read_csv(\"sales.csv\") \n",
    "print(df)"
   ]
  },
  {
   "cell_type": "code",
   "execution_count": 47,
   "id": "4dfdf247",
   "metadata": {},
   "outputs": [
    {
     "name": "stdout",
     "output_type": "stream",
     "text": [
      "    Duration         Date  Pulse  Maxpulse  Calories\n",
      "0         60  2023/10/01'  110.0     130.0     409.1\n",
      "1         60  2023/10/02'  117.0     145.0     479.0\n",
      "2         60  2023/10/03'  103.0     135.0     340.3\n",
      "3         45  2023/10/04'  109.0     175.0     282.4\n",
      "4         45  2023/10/05'  117.0     150.0     405.1\n",
      "5         60  2023/10/06'  103.0     125.0     300.0\n",
      "6         60  2023/10/07'  110.0     135.0     374.0\n",
      "7        400  2023/10/08'  114.0     133.0       NaN\n",
      "8         60  2023/10/09'  112.0     126.0     193.8\n",
      "9         30  2023/10/10'  102.0     147.0     234.8\n",
      "10        60  2023/10/11'  100.0     129.0     375.3\n",
      "11        60  2023/10/12'  109.0     131.0     345.6\n",
      "12        60  2023/10/13'  103.0     136.0     239.2\n",
      "13        60  2023/10/15'  120.0       NaN     240.8\n",
      "14        60  2023/10/15'  120.0     100.0     240.8\n",
      "15        60  2023/10/16'    NaN     101.0     243.8\n",
      "16        60  2023/10/17'  127.0     102.0     380.2\n",
      "17        45     20231018  142.0     103.0     241.4\n",
      "18        60  2023/10/19'  151.0     104.0       NaN\n",
      "19        60  2023/10/20'  162.0     105.0     300.9\n",
      "20        60  2023/10/21'  100.0     106.0     280.0\n",
      "21        60  2023/10/22'  103.0     107.0       NaN\n",
      "22        60          NaN  130.0     108.0     230.8\n",
      "23        60  2023/10/24'  134.0       NaN     239.7\n",
      "24        60  2023/10/25'  132.0     110.0     236.9\n",
      "25        60  2023/10/26'  135.0     118.0     278.8\n",
      "26        60  2023/10/27'  137.0     119.0     212.9\n",
      "27        60  2023/10/28'  138.0     121.0     345.9\n",
      "28        60  2023/10/29'  139.0     122.0     345.2\n",
      "29        60          NaN   92.0     125.0     380.5\n",
      "30        60  2023/10/31'   94.0     126.0       NaN\n"
     ]
    }
   ],
   "source": [
    "import pandas as pd\n",
    "df = pd.read_csv(\"mine.csv\")\n",
    "print(df)"
   ]
  },
  {
   "cell_type": "code",
   "execution_count": 49,
   "id": "6bff33ed",
   "metadata": {},
   "outputs": [
    {
     "name": "stdout",
     "output_type": "stream",
     "text": [
      "60\n"
     ]
    }
   ],
   "source": [
    "import pandas as pd\n",
    "\n",
    "print(pd.options.display.max_rows) "
   ]
  },
  {
   "cell_type": "code",
   "execution_count": 50,
   "id": "ded8a814",
   "metadata": {},
   "outputs": [
    {
     "name": "stdout",
     "output_type": "stream",
     "text": [
      "20\n"
     ]
    }
   ],
   "source": [
    "import pandas as pd\n",
    "\n",
    "print(pd.options.display.max_columns) "
   ]
  },
  {
   "cell_type": "code",
   "execution_count": null,
   "id": "91e7eecf",
   "metadata": {},
   "outputs": [
    {
     "name": "stdout",
     "output_type": "stream",
     "text": [
      "    Duration         Date  Pulse  Maxpulse  Calories\n",
      "0         60  2023/10/01'  110.0     130.0     409.1\n",
      "1         60  2023/10/02'  117.0     145.0     479.0\n",
      "2         60  2023/10/03'  103.0     135.0     340.3\n",
      "3         45  2023/10/04'  109.0     175.0     282.4\n",
      "4         45  2023/10/05'  117.0     150.0     405.1\n",
      "5         60  2023/10/06'  103.0     125.0     300.0\n",
      "6         60  2023/10/07'  110.0     135.0     374.0\n",
      "7        400  2023/10/08'  114.0     133.0       NaN\n",
      "8         60  2023/10/09'  112.0     126.0     193.8\n",
      "9         30  2023/10/10'  102.0     147.0     234.8\n",
      "10        60  2023/10/11'  100.0     129.0     375.3\n",
      "11        60  2023/10/12'  109.0     131.0     345.6\n",
      "12        60  2023/10/13'  103.0     136.0     239.2\n",
      "13        60  2023/10/15'  120.0       NaN     240.8\n",
      "14        60  2023/10/15'  120.0     100.0     240.8\n",
      "15        60  2023/10/16'    NaN     101.0     243.8\n",
      "16        60  2023/10/17'  127.0     102.0     380.2\n",
      "17        45     20231018  142.0     103.0     241.4\n",
      "18        60  2023/10/19'  151.0     104.0       NaN\n",
      "19        60  2023/10/20'  162.0     105.0     300.9\n",
      "20        60  2023/10/21'  100.0     106.0     280.0\n",
      "21        60  2023/10/22'  103.0     107.0       NaN\n",
      "22        60          NaN  130.0     108.0     230.8\n",
      "23        60  2023/10/24'  134.0       NaN     239.7\n",
      "24        60  2023/10/25'  132.0     110.0     236.9\n",
      "25        60  2023/10/26'  135.0     118.0     278.8\n",
      "26        60  2023/10/27'  137.0     119.0     212.9\n",
      "27        60  2023/10/28'  138.0     121.0     345.9\n",
      "28        60  2023/10/29'  139.0     122.0     345.2\n",
      "29        60          NaN   92.0     125.0     380.5\n",
      "30        60  2023/10/31'   94.0     126.0       NaN\n"
     ]
    }
   ],
   "source": [
    "import pandas as pd\n",
    "pd.options.display.max_columns = 9999\n",
    "df = pd.read_csv('mine.csv')\n",
    "print(df)"
   ]
  },
  {
   "cell_type": "code",
   "execution_count": 55,
   "id": "4e1f54d9",
   "metadata": {},
   "outputs": [
    {
     "name": "stdout",
     "output_type": "stream",
     "text": [
      "   Duration  Pulse  Maxpulse  Calories\n",
      "0        60    110       130       409\n",
      "1        60    117       145       479\n",
      "2        60    103       135       340\n",
      "3        45    109       175       282\n",
      "4        45    117       148       406\n",
      "5        60    102       127       300\n"
     ]
    }
   ],
   "source": [
    "#Load a Python Dictionary into a DataFrame:\n",
    "\n",
    "import pandas as pd\n",
    "\n",
    "data = {\n",
    "  \"Duration\":{\n",
    "    \"0\":60,\n",
    "    \"1\":60,\n",
    "    \"2\":60,\n",
    "    \"3\":45,\n",
    "    \"4\":45,\n",
    "    \"5\":60\n",
    "  },\n",
    "  \"Pulse\":{\n",
    "    \"0\":110,\n",
    "    \"1\":117,\n",
    "    \"2\":103,\n",
    "    \"3\":109,\n",
    "    \"4\":117,\n",
    "    \"5\":102\n",
    "  },\n",
    "  \"Maxpulse\":{\n",
    "    \"0\":130,\n",
    "    \"1\":145,\n",
    "    \"2\":135,\n",
    "    \"3\":175,\n",
    "    \"4\":148,\n",
    "    \"5\":127\n",
    "  },\n",
    "  \"Calories\":{\n",
    "    \"0\":409,\n",
    "    \"1\":479,\n",
    "    \"2\":340,\n",
    "    \"3\":282,\n",
    "    \"4\":406,\n",
    "    \"5\":300\n",
    "  }\n",
    "}\n",
    "\n",
    "df = pd.DataFrame(data)\n",
    "\n",
    "print(df) "
   ]
  },
  {
   "cell_type": "code",
   "execution_count": 58,
   "id": "23c54f4b",
   "metadata": {},
   "outputs": [
    {
     "name": "stdout",
     "output_type": "stream",
     "text": [
      "   Duration         Date  Pulse  Maxpulse  Calories\n",
      "0        60  2023/10/01'  110.0     130.0     409.1\n",
      "1        60  2023/10/02'  117.0     145.0     479.0\n",
      "2        60  2023/10/03'  103.0     135.0     340.3\n",
      "3        45  2023/10/04'  109.0     175.0     282.4\n",
      "4        45  2023/10/05'  117.0     150.0     405.1\n",
      "5        60  2023/10/06'  103.0     125.0     300.0\n",
      "6        60  2023/10/07'  110.0     135.0     374.0\n",
      "7       400  2023/10/08'  114.0     133.0       NaN\n",
      "8        60  2023/10/09'  112.0     126.0     193.8\n",
      "9        30  2023/10/10'  102.0     147.0     234.8\n"
     ]
    }
   ],
   "source": [
    "import pandas as pd\n",
    "df = pd.read_csv('mine.csv')\n",
    "print(df.head(10))"
   ]
  },
  {
   "cell_type": "code",
   "execution_count": 59,
   "id": "fd3eb053",
   "metadata": {},
   "outputs": [
    {
     "name": "stdout",
     "output_type": "stream",
     "text": [
      "    Duration         Date  Pulse  Maxpulse  Calories\n",
      "29        60          NaN   92.0     125.0     380.5\n",
      "30        60  2023/10/31'   94.0     126.0       NaN\n"
     ]
    }
   ],
   "source": [
    "import pandas as pd\n",
    "df = pd.read_csv('mine.csv')\n",
    "print(df.tail(2))"
   ]
  },
  {
   "cell_type": "code",
   "execution_count": 61,
   "id": "538ba880",
   "metadata": {},
   "outputs": [
    {
     "name": "stdout",
     "output_type": "stream",
     "text": [
      "<class 'pandas.core.frame.DataFrame'>\n",
      "RangeIndex: 31 entries, 0 to 30\n",
      "Data columns (total 5 columns):\n",
      " #   Column    Non-Null Count  Dtype  \n",
      "---  ------    --------------  -----  \n",
      " 0   Duration  31 non-null     int64  \n",
      " 1   Date      29 non-null     object \n",
      " 2   Pulse     30 non-null     float64\n",
      " 3   Maxpulse  29 non-null     float64\n",
      " 4   Calories  27 non-null     float64\n",
      "dtypes: float64(3), int64(1), object(1)\n",
      "memory usage: 1.3+ KB\n",
      "None\n"
     ]
    }
   ],
   "source": [
    "import pandas as pd\n",
    "df = pd.read_csv('mine.csv')\n",
    "print(df.info())"
   ]
  },
  {
   "cell_type": "code",
   "execution_count": 62,
   "id": "073a28a7",
   "metadata": {},
   "outputs": [
    {
     "name": "stdout",
     "output_type": "stream",
     "text": [
      "<class 'pandas.core.frame.DataFrame'>\n",
      "RangeIndex: 8 entries, 0 to 7\n",
      "Data columns (total 7 columns):\n",
      " #   Column         Non-Null Count  Dtype  \n",
      "---  ------         --------------  -----  \n",
      " 0   Order ID       8 non-null      int64  \n",
      " 1   Customer Name  7 non-null      object \n",
      " 2   Order Date     8 non-null      object \n",
      " 3   Product        8 non-null      object \n",
      " 4   Quantity       7 non-null      float64\n",
      " 5   Unit Price     7 non-null      float64\n",
      " 6   Total Revenue  7 non-null      float64\n",
      "dtypes: float64(3), int64(1), object(3)\n",
      "memory usage: 580.0+ bytes\n",
      "None\n"
     ]
    }
   ],
   "source": [
    "import pandas as pd\n",
    "df = pd.read_csv('Sales.csv')\n",
    "print(df.info())"
   ]
  }
 ],
 "metadata": {
  "kernelspec": {
   "display_name": "base",
   "language": "python",
   "name": "python3"
  },
  "language_info": {
   "codemirror_mode": {
    "name": "ipython",
    "version": 3
   },
   "file_extension": ".py",
   "mimetype": "text/x-python",
   "name": "python",
   "nbconvert_exporter": "python",
   "pygments_lexer": "ipython3",
   "version": "3.12.7"
  }
 },
 "nbformat": 4,
 "nbformat_minor": 5
}
