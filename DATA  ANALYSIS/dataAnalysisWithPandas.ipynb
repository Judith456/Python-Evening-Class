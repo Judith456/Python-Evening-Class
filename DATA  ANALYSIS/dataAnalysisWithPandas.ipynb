{
 "cells": [
  {
   "cell_type": "markdown",
   "id": "4bc3e062",
   "metadata": {},
   "source": [
    "SERIES"
   ]
  },
  {
   "cell_type": "code",
   "execution_count": null,
   "id": "01b50165",
   "metadata": {},
   "outputs": [],
   "source": [
    "\n",
    "\n",
    "import pandas as pd\n",
    "\n",
    "sampledata = {\n",
    "   'x' : [4, 65, 436, 3, 9],\n",
    "   'y' : [7, 0, 3, 897, 9]\n",
    "}\n",
    "df = pd.DataFrame(sampledata)\n",
    "print(df)"
   ]
  },
  {
   "cell_type": "code",
   "execution_count": null,
   "id": "3959ad7a",
   "metadata": {},
   "outputs": [
    {
     "name": "stdout",
     "output_type": "stream",
     "text": [
      "0      4\n",
      "1     65\n",
      "2    436\n",
      "3      3\n",
      "4      9\n",
      "dtype: int64\n",
      "\n",
      "\n",
      "0      7\n",
      "1      0\n",
      "2      3\n",
      "3    897\n",
      "4      9\n",
      "dtype: int64\n"
     ]
    }
   ],
   "source": [
    "#1.Write a Pandas program to compare the elements of two Pandas series. Sample Series [4,65,436,3,9], [7,0,3,897,9]\n",
    "\n",
    "import pandas as pd\n",
    "\n",
    "x = [4, 65, 436, 3, 9]\n",
    "y = [7, 0, 3, 897, 9]\n",
    "\n",
    "print(pd.Series(x))\n",
    "print(\"\\n\")\n",
    "print(pd.Series(y))"
   ]
  },
  {
   "cell_type": "code",
   "execution_count": 25,
   "id": "1d6b299a",
   "metadata": {},
   "outputs": [
    {
     "name": "stdout",
     "output_type": "stream",
     "text": [
      "0    False\n",
      "1    False\n",
      "2    False\n",
      "3    False\n",
      "4     True\n",
      "dtype: bool\n"
     ]
    }
   ],
   "source": [
    "print(pd.Series(x) == pd.Series(y))"
   ]
  },
  {
   "cell_type": "code",
   "execution_count": 26,
   "id": "4957fbfb",
   "metadata": {},
   "outputs": [
    {
     "name": "stdout",
     "output_type": "stream",
     "text": [
      "0     True\n",
      "1    False\n",
      "2    False\n",
      "3     True\n",
      "4     True\n",
      "dtype: bool\n"
     ]
    }
   ],
   "source": [
    "print(pd.Series(x) <= pd.Series(y))"
   ]
  },
  {
   "cell_type": "code",
   "execution_count": 27,
   "id": "1b1ac9c7",
   "metadata": {},
   "outputs": [
    {
     "name": "stdout",
     "output_type": "stream",
     "text": [
      "0    False\n",
      "1     True\n",
      "2     True\n",
      "3    False\n",
      "4     True\n",
      "dtype: bool\n"
     ]
    }
   ],
   "source": [
    "print(pd.Series(x) >= pd.Series(y))"
   ]
  },
  {
   "cell_type": "markdown",
   "id": "ee93f51c",
   "metadata": {},
   "source": [
    "2.Write a Pandas program to add, subtract, multiply and divide two Pandas series. \n",
    "Sample Series: [2,4,6,8,14], [1,3,5,7,9]"
   ]
  },
  {
   "cell_type": "code",
   "execution_count": null,
   "id": "510c64fa",
   "metadata": {},
   "outputs": [],
   "source": [
    "import pandas as pd\n",
    "\n",
    "a = pd.Series([2,4,6,8,14])\n",
    "b = pd.Series([1,3,5,7,9])\n",
    "\n",
    "print(\"Addition\")\n",
    "print(a + b)\n",
    "print(\"\\nSubstraction\")\n",
    "print(a - b)\n",
    "print(\"\\nMultiplication\")\n",
    "print(a * b)\n",
    "print(\"\\nDivision\")\n",
    "print(a / b)"
   ]
  },
  {
   "cell_type": "code",
   "execution_count": 28,
   "id": "225292ec",
   "metadata": {},
   "outputs": [
    {
     "name": "stdout",
     "output_type": "stream",
     "text": [
      "Josh       24\n",
      "Sam        36\n",
      "Peace      19\n",
      "Charles    65\n",
      "Tom        44\n",
      "dtype: int64\n"
     ]
    }
   ],
   "source": [
    "#3.Write a Pandas program to convert a dictionary to a Pandas series. \n",
    "#Sample dictionary: dictionary1 = {‘Josh’: 24, ‘Sam’: 36, ‘Peace’: 19, ‘Charles’: 65, ‘Tom’: 44}\n",
    "import pandas as pd\n",
    "\n",
    "dictionary1 = {'Josh': 24, 'Sam': 36, 'Peace': 19, 'Charles': 65, 'Tom': 44}\n",
    "df = pd.Series(dictionary1)\n",
    "print(df)"
   ]
  },
  {
   "cell_type": "code",
   "execution_count": null,
   "id": "bd512705",
   "metadata": {},
   "outputs": [
    {
     "name": "stdout",
     "output_type": "stream",
     "text": [
      "Original Series:\n",
      "0     Love\n",
      "1      800\n",
      "2      Joy\n",
      "3    789.9\n",
      "4    Peace\n",
      "5     True\n",
      "dtype: object\n",
      "\n",
      "Converted NumPy Array:\n",
      "['Love' 800 'Joy' 789.9 'Peace' True]\n",
      "object\n"
     ]
    }
   ],
   "source": [
    "#4.Write a Pandas program to convert a given series to an array.\n",
    "#Sample series: [‘Love’, 800, ‘Joy’, 789.9, ‘Peace’, True]\n",
    "\n",
    "import pandas as pd\n",
    "import numpy as np\n",
    "\n",
    "# Sample series\n",
    "s = pd.Series(['Love', 800, 'Joy', 789.9, 'Peace', True])\n",
    "\n",
    "# Convert the series to a NumPy array\n",
    "arr = s.to_numpy()\n",
    "\n",
    "# Display the result\n",
    "print(\"Original Series:\")\n",
    "print(s)\n",
    "\n",
    "print(\"\\nConverted NumPy Array:\")\n",
    "print(arr)\n"
   ]
  },
  {
   "cell_type": "code",
   "execution_count": 102,
   "id": "21a16dcf",
   "metadata": {},
   "outputs": [
    {
     "name": "stdout",
     "output_type": "stream",
     "text": [
      "Most frequent value in 'HomeTeamGoals': 1.0\n",
      "\n",
      "   Year       Date Time   HomeTeam       AwayTeam HomeTeamGoals  \\\n",
      "0  1957  10-Feb-57  NaN     Sudan           Egypt           1.0   \n",
      "1  1957  10-Feb-57  NaN  Ethiopia    South Africa         Other   \n",
      "2  1957  16-Feb-57  NaN     Egypt        Ethiopia         Other   \n",
      "3  1959  22-May-59  NaN      Egypt       Ethiopia         Other   \n",
      "4  1959  25-May-59  NaN     Sudan        Ethiopia           1.0   \n",
      "5  1959  29-May-59  NaN      Egypt          Sudan         Other   \n",
      "6  1962  14-Jan-62  NaN  Ethiopia         Tunisia         Other   \n",
      "7  1962  18-Jan-62  NaN      Egypt         Uganda         Other   \n",
      "8  1962  20-Jan-62  NaN   Tunisia          Uganda         Other   \n",
      "9  1962  21-Jan-62  NaN  Ethiopia           Egypt         Other   \n",
      "\n",
      "   AwayTeamGoals              Stage  \\\n",
      "0            2.0         Semifinals   \n",
      "1            NaN         Semifinals   \n",
      "2            0.0              Final   \n",
      "3            0.0   Final Tournament   \n",
      "4            0.0   Final Tournament   \n",
      "5            1.0   Final Tournament   \n",
      "6            2.0         Semifinals   \n",
      "7            1.0         Semifinals   \n",
      "8            0.0  Third place match   \n",
      "9            2.0              Final   \n",
      "\n",
      "                                SpecialWinConditions                 Stadium  \\\n",
      "0                                                NaN       Municipal Stadium   \n",
      "1  Ethiopia  wins due to disqualification of othe...                     NaN   \n",
      "2                                                NaN       Municipal Stadium   \n",
      "3                                                NaN   Prince Farouk Stadium   \n",
      "4                                                NaN   Prince Farouk Stadium   \n",
      "5                                                NaN   Prince Farouk Stadium   \n",
      "6                                                NaN  Hailé Sélassié Stadium   \n",
      "7                                                NaN  Hailé Sélassié Stadium   \n",
      "8                                                NaN  Hailé Sélassié Stadium   \n",
      "9                              win after extra time   Hailé Sélassié Stadium   \n",
      "\n",
      "           City  Attendance  \n",
      "0      Khartoum     30000.0  \n",
      "1           NaN         NaN  \n",
      "2      Khartoum     30000.0  \n",
      "3         Cairo     30000.0  \n",
      "4         Cairo     20000.0  \n",
      "5         Cairo     30000.0  \n",
      "6   Addis Ababa     30000.0  \n",
      "7   Addis Ababa     30000.0  \n",
      "8   Addis Ababa         NaN  \n",
      "9   Addis Ababa         NaN  \n"
     ]
    }
   ],
   "source": [
    "#5.Write a Pandas program to display the most frequent value in the given series and replace everything else as ‘Other’ in the series. \n",
    "# (Use the ‘HomeTeamGoals’ column in the dataset provided)\n",
    "import pandas as pd\n",
    "\n",
    "df = pd.read_csv('AfricaCupofNationsMatches.csv')\n",
    "\n",
    "# Clean column names\n",
    "df.columns = df.columns.str.strip()\n",
    "\n",
    "x = df['HomeTeamGoals'].mode()[0]\n",
    "print(f\"Most frequent value in 'HomeTeamGoals': {x}\\n\")\n",
    "\n",
    "# Replace all other values with 'Other'\n",
    "df['HomeTeamGoals'] = df['HomeTeamGoals'].apply(lambda x: x if x == most_frequent else 'Other')\n",
    "\n",
    "# Show result\n",
    "print(df.head(10))\n",
    "    "
   ]
  },
  {
   "cell_type": "markdown",
   "id": "bb9d2cea",
   "metadata": {},
   "source": [
    "                                 DATA FRAMES"
   ]
  },
  {
   "cell_type": "code",
   "execution_count": 1,
   "id": "ab77b200",
   "metadata": {},
   "outputs": [],
   "source": [
    "import pandas as pd\n",
    "\n",
    "df = pd.read_csv('AfricaCupofNationsMatches.csv')"
   ]
  },
  {
   "cell_type": "code",
   "execution_count": null,
   "id": "7c5130bd",
   "metadata": {},
   "outputs": [],
   "source": [
    "#1.Write a Pandas program to read the given csv file.\n",
    "\n",
    "print(df)"
   ]
  },
  {
   "cell_type": "code",
   "execution_count": null,
   "id": "779b5265",
   "metadata": {},
   "outputs": [],
   "source": [
    "#2.Write a Pandas program to get the first 7 rows of your data frame. \n",
    "\n",
    "print(df.head(7))"
   ]
  },
  {
   "cell_type": "code",
   "execution_count": null,
   "id": "333885a1",
   "metadata": {},
   "outputs": [],
   "source": [
    "#3.Write a Pandas program to select the ‘HomeTeam’, ‘AwayTeam’, ‘HomeTeamGoals’ and ‘AwayTeamGoals’ columns from your data frame.\n",
    "\n",
    "x = df[['HomeTeam', 'AwayTeam', 'HomeTeamGoals', 'AwayTeamGoals']]\n",
    "print(x)"
   ]
  },
  {
   "cell_type": "code",
   "execution_count": null,
   "id": "4dd52495",
   "metadata": {},
   "outputs": [],
   "source": [
    "#4.Write a Pandas program to select the rows where Egypt appears.\n",
    "\n",
    "count = ((df['AwayTeam'] == 'Egypt') | (df['HomeTeam'] == 'Egypt')).sum()\n",
    "print(count)\n"
   ]
  },
  {
   "cell_type": "code",
   "execution_count": null,
   "id": "4f4fffc8",
   "metadata": {},
   "outputs": [],
   "source": [
    "#5.Write a Pandas program to count the number of rows and columns of your data frame.\n",
    "\n",
    "df.shape"
   ]
  },
  {
   "cell_type": "code",
   "execution_count": null,
   "id": "38a7adad",
   "metadata": {},
   "outputs": [],
   "source": [
    "#8.Write a Pandas program to change the “AwayTeamGoals” in the 3rd row to 10.\n",
    "df.loc[2, 'AwayTeamGoals'] = 10\n",
    "df.head()"
   ]
  },
  {
   "cell_type": "code",
   "execution_count": null,
   "id": "4dc1fbde",
   "metadata": {},
   "outputs": [],
   "source": [
    "#9.Write a Pandas program to sort the DataFrame first by ‘HomeTeam’ in ascending order, then by ‘HomeTeamScores’ in descending order.\n",
    "sorted_df = df.sort_values(by=['HomeTeam', 'HomeTeamGoals'], ascending=[True, False])\n",
    "\n",
    "print(sorted_df)"
   ]
  },
  {
   "cell_type": "code",
   "execution_count": null,
   "id": "786e52ed",
   "metadata": {},
   "outputs": [],
   "source": [
    "#10.Write a Pandas program to get list from DataFrame column headers.\n",
    "print(df.columns)\n",
    "\n",
    "columns_list = df.columns.tolist()\n",
    "print(columns_list)"
   ]
  },
  {
   "cell_type": "code",
   "execution_count": null,
   "id": "40ba9563",
   "metadata": {},
   "outputs": [],
   "source": [
    "#11.Write a Pandas program to append a column of your choice to your DataFrame.\n",
    "\n",
    "\n",
    "df['TicketSold'] = 1000 \n",
    "\n",
    "# Save the updated DataFrame back to the CSV file\n",
    "df.to_csv('AfricaCupofNationsMatches.csv', index=False)\n",
    "\n",
    "print(\"Updated DataFrame:\")\n",
    "print(df)\n",
    " "
   ]
  },
  {
   "cell_type": "code",
   "execution_count": 2,
   "id": "f314cd4a",
   "metadata": {},
   "outputs": [
    {
     "data": {
      "text/plain": [
       "(622, 12)"
      ]
     },
     "execution_count": 2,
     "metadata": {},
     "output_type": "execute_result"
    }
   ],
   "source": [
    "df.shape"
   ]
  },
  {
   "cell_type": "code",
   "execution_count": 2,
   "id": "4c6af72a",
   "metadata": {},
   "outputs": [
    {
     "name": "stdout",
     "output_type": "stream",
     "text": [
      "\n",
      "DataFrame after adding new rows:\n",
      "     Year                       Date   Time      HomeTeam       AwayTeam  \\\n",
      "614  2019  10 July 2019 (2019-07-10)  18:00      Senegal           Benin   \n",
      "615  2019  10 July 2019 (2019-07-10)  21:00      Nigeria    South Africa   \n",
      "616  2019  11 July 2019 (2019-07-11)  18:00  Ivory Coast         Algeria   \n",
      "617  2019  11 July 2019 (2019-07-11)  21:00   Madagascar         Tunisia   \n",
      "618  2019  14 July 2019 (2019-07-14)  18:00      Senegal         Tunisia   \n",
      "619  2019  14 July 2019 (2019-07-14)  21:00      Algeria         Nigeria   \n",
      "620  2019  17 July 2019 (2019-07-17)  21:00      Tunisia         Nigeria   \n",
      "621  2019  19 July 2019 (2019-07-19)  21:00      Senegal         Algeria   \n",
      "622  2021                 2021-06-13  18:00        Team E         Team G   \n",
      "623  2022                 2022-06-14  20:00        Team F         Uganda   \n",
      "\n",
      "     HomeTeamGoals  AwayTeamGoals                 Stage  \\\n",
      "614            1.0            0.0        Quarter-finals   \n",
      "615            2.0            1.0        Quarter-finals   \n",
      "616            1.0            1.0        Quarter-finals   \n",
      "617            0.0            3.0        Quarter-finals   \n",
      "618            1.0            0.0           Semi-finals   \n",
      "619            2.0            1.0           Semi-finals   \n",
      "620            0.0            1.0  Third place play-off   \n",
      "621            0.0            1.0                 Final   \n",
      "622            3.0            1.0                 Group   \n",
      "623            0.0            3.0                 Group   \n",
      "\n",
      "               SpecialWinConditions                      Stadium    City  \\\n",
      "614                             NaN              30 June Stadium   Cairo   \n",
      "615                             NaN  Cairo International Stadium   Cairo   \n",
      "616   Algeria win on Penalities 3-4                 Suez Stadium    Suez   \n",
      "617                             NaN             Al Salam Stadium   Cairo   \n",
      "618           win after extra time               30 June Stadium   Cairo   \n",
      "619                             NaN  Cairo International Stadium   Cairo   \n",
      "620                             NaN             Al Salam Stadium   Cairo   \n",
      "621                             NaN  Cairo International Stadium   Cairo   \n",
      "622                            None                    Stadium C  City C   \n",
      "623                            None                    Stadium D  City D   \n",
      "\n",
      "     Attendance  \n",
      "614      5798.0  \n",
      "615     48343.0  \n",
      "616      8233.0  \n",
      "617      7568.0  \n",
      "618      9143.0  \n",
      "619     49775.0  \n",
      "620      6340.0  \n",
      "621     75000.0  \n",
      "622     12000.0  \n",
      "623     18000.0  \n"
     ]
    }
   ],
   "source": [
    "#12.Write a Pandas program to add 2 rows to your DataFrame.\n",
    "\n",
    "\n",
    "new_rows = pd.DataFrame({\n",
    "    'Year': [2021, 2022],\n",
    "    'Date': ['2021-06-13', '2022-06-14'],\n",
    "    'Time': ['18:00', '20:00'],\n",
    "    'HomeTeam': ['Team E', 'Team F'],\n",
    "    'AwayTeam': ['Team G', 'Uganda'],\n",
    "    'HomeTeamGoals': [3, 0],\n",
    "    'AwayTeamGoals': [1, 3],\n",
    "    'Stage': ['Group', 'Group'],\n",
    "    'SpecialWinConditions': [None, None],\n",
    "    'Stadium': ['Stadium C', 'Stadium D'],\n",
    "    'City': ['City C', 'City D'],\n",
    "    'Attendance': [12000, 18000]\n",
    "})\n",
    "\n",
    "# Add the new rows to the original DataFrame\n",
    "df = pd.concat([df, new_rows], ignore_index=True)\n",
    "\n",
    "# Display the updated DataFrame\n",
    "print(\"\\nDataFrame after adding new rows:\")\n",
    "print(df.tail(10))"
   ]
  },
  {
   "cell_type": "code",
   "execution_count": 7,
   "id": "4d324d7c",
   "metadata": {},
   "outputs": [
    {
     "data": {
      "text/plain": [
       "(624, 12)"
      ]
     },
     "execution_count": 7,
     "metadata": {},
     "output_type": "execute_result"
    }
   ],
   "source": [
    "df.shape"
   ]
  },
  {
   "cell_type": "code",
   "execution_count": 3,
   "id": "135beee6",
   "metadata": {},
   "outputs": [
    {
     "name": "stderr",
     "output_type": "stream",
     "text": [
      "C:\\Users\\user\\AppData\\Local\\Temp\\ipykernel_10616\\2370994351.py:4: FutureWarning: A value is trying to be set on a copy of a DataFrame or Series through chained assignment using an inplace method.\n",
      "The behavior will change in pandas 3.0. This inplace method will never work because the intermediate object on which we are setting values always behaves as a copy.\n",
      "\n",
      "For example, when doing 'df[col].method(value, inplace=True)', try using 'df.method({col: value}, inplace=True)' or df[col] = df[col].method(value) instead, to perform the operation inplace on the original object.\n",
      "\n",
      "\n",
      "  df['AwayTeam'].replace('Uganda', 'China', inplace = True)\n"
     ]
    },
    {
     "data": {
      "text/html": [
       "<div>\n",
       "<style scoped>\n",
       "    .dataframe tbody tr th:only-of-type {\n",
       "        vertical-align: middle;\n",
       "    }\n",
       "\n",
       "    .dataframe tbody tr th {\n",
       "        vertical-align: top;\n",
       "    }\n",
       "\n",
       "    .dataframe thead th {\n",
       "        text-align: right;\n",
       "    }\n",
       "</style>\n",
       "<table border=\"1\" class=\"dataframe\">\n",
       "  <thead>\n",
       "    <tr style=\"text-align: right;\">\n",
       "      <th></th>\n",
       "      <th>Year</th>\n",
       "      <th>Date</th>\n",
       "      <th>Time</th>\n",
       "      <th>HomeTeam</th>\n",
       "      <th>AwayTeam</th>\n",
       "      <th>HomeTeamGoals</th>\n",
       "      <th>AwayTeamGoals</th>\n",
       "      <th>Stage</th>\n",
       "      <th>SpecialWinConditions</th>\n",
       "      <th>Stadium</th>\n",
       "      <th>City</th>\n",
       "      <th>Attendance</th>\n",
       "    </tr>\n",
       "  </thead>\n",
       "  <tbody>\n",
       "    <tr>\n",
       "      <th>619</th>\n",
       "      <td>2019</td>\n",
       "      <td>14 July 2019 (2019-07-14)</td>\n",
       "      <td>21:00</td>\n",
       "      <td>Algeria</td>\n",
       "      <td>Nigeria</td>\n",
       "      <td>2.0</td>\n",
       "      <td>1.0</td>\n",
       "      <td>Semi-finals</td>\n",
       "      <td>NaN</td>\n",
       "      <td>Cairo International Stadium</td>\n",
       "      <td>Cairo</td>\n",
       "      <td>49775.0</td>\n",
       "    </tr>\n",
       "    <tr>\n",
       "      <th>620</th>\n",
       "      <td>2019</td>\n",
       "      <td>17 July 2019 (2019-07-17)</td>\n",
       "      <td>21:00</td>\n",
       "      <td>Tunisia</td>\n",
       "      <td>Nigeria</td>\n",
       "      <td>0.0</td>\n",
       "      <td>1.0</td>\n",
       "      <td>Third place play-off</td>\n",
       "      <td>NaN</td>\n",
       "      <td>Al Salam Stadium</td>\n",
       "      <td>Cairo</td>\n",
       "      <td>6340.0</td>\n",
       "    </tr>\n",
       "    <tr>\n",
       "      <th>621</th>\n",
       "      <td>2019</td>\n",
       "      <td>19 July 2019 (2019-07-19)</td>\n",
       "      <td>21:00</td>\n",
       "      <td>Senegal</td>\n",
       "      <td>Algeria</td>\n",
       "      <td>0.0</td>\n",
       "      <td>1.0</td>\n",
       "      <td>Final</td>\n",
       "      <td>NaN</td>\n",
       "      <td>Cairo International Stadium</td>\n",
       "      <td>Cairo</td>\n",
       "      <td>75000.0</td>\n",
       "    </tr>\n",
       "    <tr>\n",
       "      <th>622</th>\n",
       "      <td>2021</td>\n",
       "      <td>2021-06-13</td>\n",
       "      <td>18:00</td>\n",
       "      <td>Team E</td>\n",
       "      <td>Team G</td>\n",
       "      <td>3.0</td>\n",
       "      <td>1.0</td>\n",
       "      <td>Group</td>\n",
       "      <td>None</td>\n",
       "      <td>Stadium C</td>\n",
       "      <td>City C</td>\n",
       "      <td>12000.0</td>\n",
       "    </tr>\n",
       "    <tr>\n",
       "      <th>623</th>\n",
       "      <td>2022</td>\n",
       "      <td>2022-06-14</td>\n",
       "      <td>20:00</td>\n",
       "      <td>Team F</td>\n",
       "      <td>China</td>\n",
       "      <td>0.0</td>\n",
       "      <td>3.0</td>\n",
       "      <td>Group</td>\n",
       "      <td>None</td>\n",
       "      <td>Stadium D</td>\n",
       "      <td>City D</td>\n",
       "      <td>18000.0</td>\n",
       "    </tr>\n",
       "  </tbody>\n",
       "</table>\n",
       "</div>"
      ],
      "text/plain": [
       "     Year                       Date   Time  HomeTeam  AwayTeam  \\\n",
       "619  2019  14 July 2019 (2019-07-14)  21:00  Algeria    Nigeria   \n",
       "620  2019  17 July 2019 (2019-07-17)  21:00  Tunisia    Nigeria   \n",
       "621  2019  19 July 2019 (2019-07-19)  21:00  Senegal    Algeria   \n",
       "622  2021                 2021-06-13  18:00    Team E    Team G   \n",
       "623  2022                 2022-06-14  20:00    Team F     China   \n",
       "\n",
       "     HomeTeamGoals  AwayTeamGoals                 Stage SpecialWinConditions  \\\n",
       "619            2.0            1.0           Semi-finals                  NaN   \n",
       "620            0.0            1.0  Third place play-off                  NaN   \n",
       "621            0.0            1.0                 Final                  NaN   \n",
       "622            3.0            1.0                 Group                 None   \n",
       "623            0.0            3.0                 Group                 None   \n",
       "\n",
       "                         Stadium    City  Attendance  \n",
       "619  Cairo International Stadium   Cairo     49775.0  \n",
       "620             Al Salam Stadium   Cairo      6340.0  \n",
       "621  Cairo International Stadium   Cairo     75000.0  \n",
       "622                    Stadium C  City C     12000.0  \n",
       "623                    Stadium D  City D     18000.0  "
      ]
     },
     "execution_count": 3,
     "metadata": {},
     "output_type": "execute_result"
    }
   ],
   "source": [
    "#13.Write a Pandas program to change the country ‘Uganda’ to ‘China’ in the ‘AwayTeam’ column of the DataFrame.\n",
    "\n",
    "\n",
    "df['AwayTeam'].replace('Uganda', 'China', inplace = True)\n",
    "df.tail()\n"
   ]
  },
  {
   "cell_type": "code",
   "execution_count": 6,
   "id": "d6de514c",
   "metadata": {},
   "outputs": [
    {
     "name": "stdout",
     "output_type": "stream",
     "text": [
      "\n",
      "Count of 'Uganda' after replacement: 0\n",
      "Count of 'China' after replacement: 1\n"
     ]
    }
   ],
   "source": [
    "count_uganda = (df['AwayTeam'] == 'Uganda').sum()\n",
    "count_china = (df['AwayTeam'] == 'China').sum()\n",
    "\n",
    "print(f\"\\nCount of 'Uganda' after replacement: {count_uganda}\")\n",
    "print(f\"Count of 'China' after replacement: {count_china}\")"
   ]
  },
  {
   "cell_type": "code",
   "execution_count": 12,
   "id": "03795e5d",
   "metadata": {},
   "outputs": [
    {
     "name": "stdout",
     "output_type": "stream",
     "text": [
      "\n",
      "DataFrame with custom index:\n",
      "                           Date   Time   HomeTeam       AwayTeam  \\\n",
      "Year                                                               \n",
      "1957                  10-Feb-57    NaN     Sudan           Egypt   \n",
      "1957                  10-Feb-57    NaN  Ethiopia    South Africa   \n",
      "1957                  16-Feb-57    NaN     Egypt        Ethiopia   \n",
      "1959                  22-May-59    NaN      Egypt       Ethiopia   \n",
      "1959                  25-May-59    NaN     Sudan        Ethiopia   \n",
      "...                         ...    ...        ...            ...   \n",
      "2019  14 July 2019 (2019-07-14)  21:00   Algeria         Nigeria   \n",
      "2019  17 July 2019 (2019-07-17)  21:00   Tunisia         Nigeria   \n",
      "2019  19 July 2019 (2019-07-19)  21:00   Senegal         Algeria   \n",
      "2021                 2021-06-13  18:00     Team E         Team G   \n",
      "2022                 2022-06-14  20:00     Team F         Team H   \n",
      "\n",
      "      HomeTeamGoals  AwayTeamGoals                 Stage  \\\n",
      "Year                                                       \n",
      "1957            1.0            2.0            Semifinals   \n",
      "1957            NaN            NaN            Semifinals   \n",
      "1957            4.0            0.0                 Final   \n",
      "1959            4.0            0.0      Final Tournament   \n",
      "1959            1.0            0.0      Final Tournament   \n",
      "...             ...            ...                   ...   \n",
      "2019            2.0            1.0           Semi-finals   \n",
      "2019            0.0            1.0  Third place play-off   \n",
      "2019            0.0            1.0                 Final   \n",
      "2021            3.0            1.0                 Group   \n",
      "2022            0.0            1.0                 Group   \n",
      "\n",
      "                                   SpecialWinConditions  \\\n",
      "Year                                                      \n",
      "1957                                                NaN   \n",
      "1957  Ethiopia  wins due to disqualification of othe...   \n",
      "1957                                                NaN   \n",
      "1959                                                NaN   \n",
      "1959                                                NaN   \n",
      "...                                                 ...   \n",
      "2019                                                NaN   \n",
      "2019                                                NaN   \n",
      "2019                                                NaN   \n",
      "2021                                               None   \n",
      "2022                                               None   \n",
      "\n",
      "                          Stadium       City  Attendance  \n",
      "Year                                                      \n",
      "1957            Municipal Stadium   Khartoum     30000.0  \n",
      "1957                          NaN        NaN         NaN  \n",
      "1957            Municipal Stadium   Khartoum     30000.0  \n",
      "1959        Prince Farouk Stadium      Cairo     30000.0  \n",
      "1959        Prince Farouk Stadium      Cairo     20000.0  \n",
      "...                           ...        ...         ...  \n",
      "2019  Cairo International Stadium      Cairo     49775.0  \n",
      "2019             Al Salam Stadium      Cairo      6340.0  \n",
      "2019  Cairo International Stadium      Cairo     75000.0  \n",
      "2021                    Stadium C     City C     12000.0  \n",
      "2022                    Stadium D     City D     18000.0  \n",
      "\n",
      "[624 rows x 11 columns]\n",
      "\n",
      "DataFrame after resetting the index:\n",
      "     Year                       Date   Time   HomeTeam       AwayTeam  \\\n",
      "0    1957                  10-Feb-57    NaN     Sudan           Egypt   \n",
      "1    1957                  10-Feb-57    NaN  Ethiopia    South Africa   \n",
      "2    1957                  16-Feb-57    NaN     Egypt        Ethiopia   \n",
      "3    1959                  22-May-59    NaN      Egypt       Ethiopia   \n",
      "4    1959                  25-May-59    NaN     Sudan        Ethiopia   \n",
      "..    ...                        ...    ...        ...            ...   \n",
      "619  2019  14 July 2019 (2019-07-14)  21:00   Algeria         Nigeria   \n",
      "620  2019  17 July 2019 (2019-07-17)  21:00   Tunisia         Nigeria   \n",
      "621  2019  19 July 2019 (2019-07-19)  21:00   Senegal         Algeria   \n",
      "622  2021                 2021-06-13  18:00     Team E         Team G   \n",
      "623  2022                 2022-06-14  20:00     Team F         Team H   \n",
      "\n",
      "     HomeTeamGoals  AwayTeamGoals                 Stage  \\\n",
      "0              1.0            2.0            Semifinals   \n",
      "1              NaN            NaN            Semifinals   \n",
      "2              4.0            0.0                 Final   \n",
      "3              4.0            0.0      Final Tournament   \n",
      "4              1.0            0.0      Final Tournament   \n",
      "..             ...            ...                   ...   \n",
      "619            2.0            1.0           Semi-finals   \n",
      "620            0.0            1.0  Third place play-off   \n",
      "621            0.0            1.0                 Final   \n",
      "622            3.0            1.0                 Group   \n",
      "623            0.0            1.0                 Group   \n",
      "\n",
      "                                  SpecialWinConditions  \\\n",
      "0                                                  NaN   \n",
      "1    Ethiopia  wins due to disqualification of othe...   \n",
      "2                                                  NaN   \n",
      "3                                                  NaN   \n",
      "4                                                  NaN   \n",
      "..                                                 ...   \n",
      "619                                                NaN   \n",
      "620                                                NaN   \n",
      "621                                                NaN   \n",
      "622                                               None   \n",
      "623                                               None   \n",
      "\n",
      "                         Stadium       City  Attendance  \n",
      "0              Municipal Stadium   Khartoum     30000.0  \n",
      "1                            NaN        NaN         NaN  \n",
      "2              Municipal Stadium   Khartoum     30000.0  \n",
      "3          Prince Farouk Stadium      Cairo     30000.0  \n",
      "4          Prince Farouk Stadium      Cairo     20000.0  \n",
      "..                           ...        ...         ...  \n",
      "619  Cairo International Stadium      Cairo     49775.0  \n",
      "620             Al Salam Stadium      Cairo      6340.0  \n",
      "621  Cairo International Stadium      Cairo     75000.0  \n",
      "622                    Stadium C     City C     12000.0  \n",
      "623                    Stadium D     City D     18000.0  \n",
      "\n",
      "[624 rows x 12 columns]\n"
     ]
    }
   ],
   "source": [
    "#14.Write a Pandas program to reset index in your DataFrame.\n",
    "\n",
    "# Set a custom index for demonstration\n",
    "df.set_index('Year', inplace=True)\n",
    "\n",
    "\n",
    "print(\"\\nDataFrame with custom index:\")\n",
    "print(df)\n",
    "\n",
    "\n",
    "df_reset = df.reset_index()\n",
    "\n",
    "# Display the DataFrame after resetting the index\n",
    "print(\"\\nDataFrame after resetting the index:\")\n",
    "print(df_reset)"
   ]
  },
  {
   "cell_type": "code",
   "execution_count": 71,
   "id": "cc5d25c5",
   "metadata": {},
   "outputs": [
    {
     "name": "stdout",
     "output_type": "stream",
     "text": [
      "Stadium is present in the dataframe\n"
     ]
    }
   ],
   "source": [
    "#15.Write a Pandas program to check whether the ‘Stadium’ column is present in your DataFrame or not.\n",
    "if 'Stadium' in df.columns:\n",
    "    print(\"Stadium is present in the dataframe\")\n",
    "else:\n",
    "    print(\"Stadium not found in dataframe\")"
   ]
  },
  {
   "cell_type": "code",
   "execution_count": 73,
   "id": "f55610fd",
   "metadata": {},
   "outputs": [
    {
     "data": {
      "text/plain": [
       "Date                     object\n",
       "Time                     object\n",
       "HomeTeam                 object\n",
       "AwayTeam                 object\n",
       "HomeTeamGoals           float64\n",
       "AwayTeamGoals           float64\n",
       "Stage                    object\n",
       "SpecialWinConditions     object\n",
       "Stadium                  object\n",
       "City                     object\n",
       "Attendance              float64\n",
       "Date                     object\n",
       "Time                     object\n",
       "dtype: object"
      ]
     },
     "execution_count": 73,
     "metadata": {},
     "output_type": "execute_result"
    }
   ],
   "source": [
    "#16.Write a Pandas program to convert the datatype of the ‘AwayTeamGoals’. (int to float)\n",
    "\n",
    "df['AwayTeamGoals'] = df['AwayTeamGoals'].astype(float)\n",
    "df.dtypes"
   ]
  },
  {
   "cell_type": "code",
   "execution_count": null,
   "id": "af989983",
   "metadata": {},
   "outputs": [],
   "source": [
    "#17.Write a Pandas program to remove the last 10 rows from your DataFrame.\n",
    "import pandas as pd\n",
    "\n",
    "df = pd.read_csv('AfricaCupofNationsMatches.csv')\n",
    "\n",
    "print(df.shape)\n",
    "print(df.tail(30))\n",
    "\n",
    "print(\"\\nAfter removing the last rows\")\n",
    "df = df[:-10]\n",
    "df\n"
   ]
  },
  {
   "cell_type": "code",
   "execution_count": 82,
   "id": "3f62d817",
   "metadata": {},
   "outputs": [
    {
     "data": {
      "text/plain": [
       "(612, 12)"
      ]
     },
     "execution_count": 82,
     "metadata": {},
     "output_type": "execute_result"
    }
   ],
   "source": [
    "df.shape"
   ]
  },
  {
   "cell_type": "code",
   "execution_count": null,
   "id": "65003882",
   "metadata": {},
   "outputs": [],
   "source": [
    "#18.Write a Pandas program to iterate over rows in your DataFrame.\n",
    "\"\"\"\n",
    "Write Python code using the Pandas library that goes through each row of a DataFrame one at a time so that you can access and possibly process the data in each row.\n",
    "\"\"\"\n",
    "# Iterate over rows using itertuples()\n",
    "df.columns = df.columns.str.strip()\n",
    "\n",
    "# Confirm cleaned column names\n",
    "print(\"Column names:\")\n",
    "print(df.columns.tolist())\n",
    "\n",
    "# Iterate over rows using itertuples()\n",
    "print(\"\\nIterating over rows using itertuples():\")\n",
    "for row in df.itertuples(index=True):\n",
    "    print(f\"Index: {row.Index}, Year: {row.Year}, Date: {row.Date}, Time: {row.Time}, \"\n",
    "          f\"HomeTeam: {row.HomeTeam}, AwayTeam: {row.AwayTeam}, HomeTeamGoals: {row.HomeTeamGoals}, \"\n",
    "          f\"AwayTeamGoals: {row.AwayTeamGoals}, Stage: {row.Stage}, \"\n",
    "          f\"SpecialWinConditions: {row.SpecialWinConditions}, Stadium: {row.Stadium}, \"\n",
    "          f\"City: {row.City}, Attendance: {row.Attendance}\")"
   ]
  },
  {
   "cell_type": "code",
   "execution_count": 23,
   "id": "0d21c4b4",
   "metadata": {},
   "outputs": [
    {
     "name": "stdout",
     "output_type": "stream",
     "text": [
      "\n",
      "Current column names:\n",
      "['Year', 'Date', 'Time', 'HomeTeam', 'AwayTeam', 'HomeTeamGoals', 'AwayTeamGoals', 'Stage', 'SpecialWinConditions', 'Stadium', 'City', 'Attendance']\n",
      "\n",
      "DataFrame after changing the order of columns:\n",
      "Index(['Date', 'Year', 'City', 'HomeTeam', 'AwayTeam', 'HomeTeamGoals',\n",
      "       'AwayTeamGoals', 'Stage', 'Stadium', 'Attendance', 'Time'],\n",
      "      dtype='object')\n"
     ]
    }
   ],
   "source": [
    "#19.Write a Pandas program to change the order of your DataFrame columns.\n",
    "# Check current column names\n",
    "import pandas as pd\n",
    "\n",
    "df = pd.read_csv('AfricaCupofNationsMatches.csv')\n",
    "\n",
    "print(\"\\nCurrent column names:\")\n",
    "print(df.columns.tolist())\n",
    "\n",
    "# Define the new order of columns\n",
    "new_order = ['Date', 'Year', 'City', 'HomeTeam', 'AwayTeam', 'HomeTeamGoals', 'AwayTeamGoals', 'Stage', 'Stadium', 'Attendance', 'Time']\n",
    "\n",
    "# Check if all columns in new_order exist in the DataFrame\n",
    "missing_cols = [col for col in new_order if col not in df.columns]\n",
    "if missing_cols:\n",
    "    print(f\"\\nError: The following columns are missing in the DataFrame: {missing_cols}\")\n",
    "else:\n",
    "    # Reorder the DataFrame columns\n",
    "    df = df[new_order]\n",
    "\n",
    "    # Display the DataFrame with reordered columns\n",
    "    print(\"\\nDataFrame after changing the order of columns:\")\n",
    "    print(df.columns)\n"
   ]
  },
  {
   "cell_type": "code",
   "execution_count": null,
   "id": "737b7818",
   "metadata": {},
   "outputs": [
    {
     "name": "stdout",
     "output_type": "stream",
     "text": [
      "    Year       Date Time      HomeTeam              AwayTeam  HomeTeamGoals  \\\n",
      "0   1957  10-Feb-57  NaN        Sudan                  Egypt            1.0   \n",
      "1   1957  10-Feb-57  NaN     Ethiopia           South Africa            NaN   \n",
      "2   1957  16-Feb-57  NaN        Egypt               Ethiopia            4.0   \n",
      "3   1959  22-May-59  NaN         Egypt              Ethiopia            4.0   \n",
      "4   1959  25-May-59  NaN        Sudan               Ethiopia            1.0   \n",
      "5   1959  29-May-59  NaN         Egypt                 Sudan            2.0   \n",
      "6   1962  14-Jan-62  NaN     Ethiopia                Tunisia            4.0   \n",
      "7   1962  18-Jan-62  NaN         Egypt                Uganda            2.0   \n",
      "8   1962  20-Jan-62  NaN      Tunisia                 Uganda            3.0   \n",
      "9   1962  21-Jan-62  NaN     Ethiopia                  Egypt            4.0   \n",
      "10  1963  24-Nov-63  NaN        Ghana                Tunisia            1.0   \n",
      "11  1963  26-Nov-63  NaN        Ghana               Ethiopia            2.0   \n",
      "12  1963  28-Nov-63  NaN     Ethiopia                Tunisia            4.0   \n",
      "13  1963  24-Nov-63  NaN         Egypt               Nigeria            6.0   \n",
      "14  1963  26-Nov-63  NaN         Egypt                 Sudan            2.0   \n",
      "15  1963  28-Nov-63  NaN        Sudan                Nigeria            4.0   \n",
      "16  1963  30-Nov-63  NaN         Egypt              Ethiopia            3.0   \n",
      "17  1963   1-Dec-63  NaN        Ghana                  Sudan            3.0   \n",
      "18  1965  12-Nov-65  NaN      Tunisia               Ethiopia            4.0   \n",
      "20  1965  19-Nov-65  NaN      Senegal               Ethiopia            5.0   \n",
      "21  1965  12-Nov-65  NaN        Ghana    Congo-Léopoldville            5.0   \n",
      "22  1965  14-Nov-65  NaN  Ivory Coast    Congo-Léopoldville            3.0   \n",
      "23  1965  19-Nov-65  NaN        Ghana            Ivory Coast            4.0   \n",
      "25  1965  21-Nov-65  NaN        Ghana                Tunisia            3.0   \n",
      "26  1968  12-Jan-68  NaN     Ethiopia                 Uganda            2.0   \n",
      "27  1968  12-Jan-68  NaN  Ivory Coast                Algeria            3.0   \n",
      "28  1968  14-Jan-68  NaN     Ethiopia            Ivory Coast            1.0   \n",
      "29  1968  14-Jan-68  NaN      Algeria                 Uganda            4.0   \n",
      "30  1968  16-Jan-68  NaN  Ivory Coast                 Uganda            2.0   \n",
      "31  1968  16-Jan-68  NaN     Ethiopia                Algeria            3.0   \n",
      "\n",
      "    AwayTeamGoals              Stage  \\\n",
      "0             2.0         Semifinals   \n",
      "1             NaN         Semifinals   \n",
      "2             0.0              Final   \n",
      "3             0.0   Final Tournament   \n",
      "4             0.0   Final Tournament   \n",
      "5             1.0   Final Tournament   \n",
      "6             2.0         Semifinals   \n",
      "7             1.0         Semifinals   \n",
      "8             0.0  Third place match   \n",
      "9             2.0              Final   \n",
      "10            1.0            Group A   \n",
      "11            0.0            Group A   \n",
      "12            2.0            Group A   \n",
      "13            3.0            Group B   \n",
      "14            2.0            Group B   \n",
      "15            0.0            Group B   \n",
      "16            0.0  Third place match   \n",
      "17            0.0              Final   \n",
      "18            0.0            Group A   \n",
      "20            1.0            Group A   \n",
      "21            2.0            Group B   \n",
      "22            0.0            Group B   \n",
      "23            1.0            Group B   \n",
      "25            2.0              Final   \n",
      "26            1.0            Group A   \n",
      "27            0.0            Group A   \n",
      "28            0.0            Group A   \n",
      "29            0.0            Group A   \n",
      "30            1.0            Group A   \n",
      "31            1.0            Group A   \n",
      "\n",
      "                                 SpecialWinConditions                 Stadium  \\\n",
      "0                                                 NaN       Municipal Stadium   \n",
      "1   Ethiopia  wins due to disqualification of othe...                     NaN   \n",
      "2                                                 NaN       Municipal Stadium   \n",
      "3                                                 NaN   Prince Farouk Stadium   \n",
      "4                                                 NaN   Prince Farouk Stadium   \n",
      "5                                                 NaN   Prince Farouk Stadium   \n",
      "6                                                 NaN  Hailé Sélassié Stadium   \n",
      "7                                                 NaN  Hailé Sélassié Stadium   \n",
      "8                                                 NaN  Hailé Sélassié Stadium   \n",
      "9                               win after extra time   Hailé Sélassié Stadium   \n",
      "10                                                NaN    Accra Sports Stadium   \n",
      "11                                                NaN    Accra Sports Stadium   \n",
      "12                                                NaN    Accra Sports Stadium   \n",
      "13                                                NaN   Kumasi Sports Stadium   \n",
      "14                                                NaN   Kumasi Sports Stadium   \n",
      "15                                                NaN   Kumasi Sports Stadium   \n",
      "16                                                NaN    Accra Sports Stadium   \n",
      "17                                                NaN    Accra Sports Stadium   \n",
      "18                                                NaN    Stade Chedli Zouiten   \n",
      "20                                                NaN    Stade Chedli Zouiten   \n",
      "21                                                NaN   Stade Bou Ali Lahouar   \n",
      "22                                                NaN       Stade Taïeb Mhiri   \n",
      "23                                                NaN       Stade Ahmed Bsiri   \n",
      "25                              win after extra time     Stade Chedli Zouiten   \n",
      "26                                                NaN  Hailé Sélassié Stadium   \n",
      "27                                                NaN  Hailé Sélassié Stadium   \n",
      "28                                                NaN  Hailé Sélassié Stadium   \n",
      "29                                                NaN  Hailé Sélassié Stadium   \n",
      "30                                                NaN  Hailé Sélassié Stadium   \n",
      "31                                                NaN  Hailé Sélassié Stadium   \n",
      "\n",
      "            City  Attendance  \n",
      "0       Khartoum     30000.0  \n",
      "1            NaN         NaN  \n",
      "2       Khartoum     30000.0  \n",
      "3          Cairo     30000.0  \n",
      "4          Cairo     20000.0  \n",
      "5          Cairo     30000.0  \n",
      "6    Addis Ababa     30000.0  \n",
      "7    Addis Ababa     30000.0  \n",
      "8    Addis Ababa         NaN  \n",
      "9    Addis Ababa         NaN  \n",
      "10         Accra         NaN  \n",
      "11         Accra         NaN  \n",
      "12         Accra         NaN  \n",
      "13        Kumasi         NaN  \n",
      "14        Kumasi         NaN  \n",
      "15        Kumasi         NaN  \n",
      "16         Accra         NaN  \n",
      "17         Accra         NaN  \n",
      "18         Tunis     16000.0  \n",
      "20         Tunis         NaN  \n",
      "21        Sousse         NaN  \n",
      "22          Sfax         NaN  \n",
      "23       Bizerte         NaN  \n",
      "25         Tunis         NaN  \n",
      "26   Addis Ababa     20000.0  \n",
      "27   Addis Ababa     20000.0  \n",
      "28   Addis Ababa     25000.0  \n",
      "29   Addis Ababa     25000.0  \n",
      "30   Addis Ababa     15000.0  \n",
      "31   Addis Ababa     20000.0  \n"
     ]
    }
   ],
   "source": [
    "#20.Write a Pandas program to delete DataFrame row(s) whose value is 0 in the ‘HomeTeamGoals’ columns.\n",
    "import pandas as pd\n",
    "\n",
    "df = pd.read_csv('AfricaCupofNationsMatches.csv')\n",
    "\n",
    "df = df[df['HomeTeamGoals'] != 0]\n",
    "\n",
    "print(df.head(30))"
   ]
  }
 ],
 "metadata": {
  "kernelspec": {
   "display_name": "base",
   "language": "python",
   "name": "python3"
  },
  "language_info": {
   "codemirror_mode": {
    "name": "ipython",
    "version": 3
   },
   "file_extension": ".py",
   "mimetype": "text/x-python",
   "name": "python",
   "nbconvert_exporter": "python",
   "pygments_lexer": "ipython3",
   "version": "3.12.7"
  }
 },
 "nbformat": 4,
 "nbformat_minor": 5
}
