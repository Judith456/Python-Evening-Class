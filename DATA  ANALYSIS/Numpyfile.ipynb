{
 "cells": [
  {
   "cell_type": "code",
   "execution_count": null,
   "id": "11fa81be",
   "metadata": {},
   "outputs": [],
   "source": [
    "import pandas as pd\n",
    "\n",
    "# Load the CSV file\n",
    "df = pd.read_csv('AfricaCupofNationsMatches.csv')\n",
    "\n",
    "# Create a list with the same length as the DataFrame\n",
    "# For example, creating a list of random ticket sales\n",
    "# Here, we will generate random values for demonstration purposes\n",
    "import numpy as np\n",
    "\n",
    "np.random.seed(0)  # For reproducibility\n",
    "ticket_sold = np.random.randint(500, 5000, size=len(df))  # Random values between 500 and 5000\n",
    "\n",
    "# Assign the list to the new column 'TicketSold'\n",
    "df['TicketSold'] = ticket_sold\n",
    "\n",
    "# Save the updated DataFrame back to the CSV file\n",
    "df.to_csv('AfricaCupofNationsMatches.csv', index=False)\n",
    "\n",
    "print(\"Updated DataFrame:\")\n",
    "print(df)"
   ]
  }
 ],
 "metadata": {
  "language_info": {
   "name": "python"
  }
 },
 "nbformat": 4,
 "nbformat_minor": 5
}
